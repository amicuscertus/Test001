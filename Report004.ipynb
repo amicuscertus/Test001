{
  "nbformat": 4,
  "nbformat_minor": 0,
  "metadata": {
    "colab": {
      "name": "Report004.ipynb",
      "provenance": [],
      "collapsed_sections": []
    },
    "kernelspec": {
      "name": "python3",
      "display_name": "Python 3"
    }
  },
  "cells": [
    {
      "cell_type": "code",
      "metadata": {
        "id": "tESYIhWcvMl2",
        "colab_type": "code",
        "colab": {}
      },
      "source": [
        "import numpy as np\n",
        "import pandas as pd\n",
        "import matplotlib.pyplot as plt\n",
        "import seaborn as sns\n",
        "from sklearn import linear_model\n",
        "sns.set()"
      ],
      "execution_count": 0,
      "outputs": []
    },
    {
      "cell_type": "markdown",
      "metadata": {
        "id": "_S4-6p4Jt26C",
        "colab_type": "text"
      },
      "source": [
        "生データの読み込み。（第１行が列名では無いことに注意。）"
      ]
    },
    {
      "cell_type": "code",
      "metadata": {
        "id": "CBajtSKIvbm2",
        "colab_type": "code",
        "colab": {
          "base_uri": "https://localhost:8080/",
          "height": 297
        },
        "outputId": "85d734f8-e189-426b-95fb-04138b17da34"
      },
      "source": [
        "df = pd.read_csv('mydata002.csv', header=None)\n",
        "df.head(100)"
      ],
      "execution_count": 2,
      "outputs": [
        {
          "output_type": "execute_result",
          "data": {
            "text/html": [
              "<div>\n",
              "<style scoped>\n",
              "    .dataframe tbody tr th:only-of-type {\n",
              "        vertical-align: middle;\n",
              "    }\n",
              "\n",
              "    .dataframe tbody tr th {\n",
              "        vertical-align: top;\n",
              "    }\n",
              "\n",
              "    .dataframe thead th {\n",
              "        text-align: right;\n",
              "    }\n",
              "</style>\n",
              "<table border=\"1\" class=\"dataframe\">\n",
              "  <thead>\n",
              "    <tr style=\"text-align: right;\">\n",
              "      <th></th>\n",
              "      <th>0</th>\n",
              "      <th>1</th>\n",
              "      <th>2</th>\n",
              "    </tr>\n",
              "  </thead>\n",
              "  <tbody>\n",
              "    <tr>\n",
              "      <th>0</th>\n",
              "      <td>26.3</td>\n",
              "      <td>15.503</td>\n",
              "      <td>1.91100</td>\n",
              "    </tr>\n",
              "    <tr>\n",
              "      <th>1</th>\n",
              "      <td>34.9</td>\n",
              "      <td>15.943</td>\n",
              "      <td>1.39830</td>\n",
              "    </tr>\n",
              "    <tr>\n",
              "      <th>2</th>\n",
              "      <td>43.8</td>\n",
              "      <td>16.441</td>\n",
              "      <td>1.02768</td>\n",
              "    </tr>\n",
              "    <tr>\n",
              "      <th>3</th>\n",
              "      <td>53.1</td>\n",
              "      <td>16.994</td>\n",
              "      <td>0.74553</td>\n",
              "    </tr>\n",
              "    <tr>\n",
              "      <th>4</th>\n",
              "      <td>62.0</td>\n",
              "      <td>17.523</td>\n",
              "      <td>0.55844</td>\n",
              "    </tr>\n",
              "    <tr>\n",
              "      <th>5</th>\n",
              "      <td>71.3</td>\n",
              "      <td>18.056</td>\n",
              "      <td>0.41561</td>\n",
              "    </tr>\n",
              "    <tr>\n",
              "      <th>6</th>\n",
              "      <td>80.6</td>\n",
              "      <td>18.635</td>\n",
              "      <td>0.31667</td>\n",
              "    </tr>\n",
              "    <tr>\n",
              "      <th>7</th>\n",
              "      <td>89.9</td>\n",
              "      <td>19.197</td>\n",
              "      <td>0.24289</td>\n",
              "    </tr>\n",
              "  </tbody>\n",
              "</table>\n",
              "</div>"
            ],
            "text/plain": [
              "      0       1        2\n",
              "0  26.3  15.503  1.91100\n",
              "1  34.9  15.943  1.39830\n",
              "2  43.8  16.441  1.02768\n",
              "3  53.1  16.994  0.74553\n",
              "4  62.0  17.523  0.55844\n",
              "5  71.3  18.056  0.41561\n",
              "6  80.6  18.635  0.31667\n",
              "7  89.9  19.197  0.24289"
            ]
          },
          "metadata": {
            "tags": []
          },
          "execution_count": 2
        }
      ]
    },
    {
      "cell_type": "markdown",
      "metadata": {
        "id": "fOnyjHjFuKXt",
        "colab_type": "text"
      },
      "source": [
        "列名を付ける。"
      ]
    },
    {
      "cell_type": "code",
      "metadata": {
        "id": "IdPl2Eg-vg1B",
        "colab_type": "code",
        "colab": {
          "base_uri": "https://localhost:8080/",
          "height": 111
        },
        "outputId": "064c7934-0a8c-42be-ea8c-e32ed9a7ad84"
      },
      "source": [
        "df.columns = ['t', 'Rc', 'Rs']\n",
        "df.head(2)"
      ],
      "execution_count": 3,
      "outputs": [
        {
          "output_type": "execute_result",
          "data": {
            "text/html": [
              "<div>\n",
              "<style scoped>\n",
              "    .dataframe tbody tr th:only-of-type {\n",
              "        vertical-align: middle;\n",
              "    }\n",
              "\n",
              "    .dataframe tbody tr th {\n",
              "        vertical-align: top;\n",
              "    }\n",
              "\n",
              "    .dataframe thead th {\n",
              "        text-align: right;\n",
              "    }\n",
              "</style>\n",
              "<table border=\"1\" class=\"dataframe\">\n",
              "  <thead>\n",
              "    <tr style=\"text-align: right;\">\n",
              "      <th></th>\n",
              "      <th>t</th>\n",
              "      <th>Rc</th>\n",
              "      <th>Rs</th>\n",
              "    </tr>\n",
              "  </thead>\n",
              "  <tbody>\n",
              "    <tr>\n",
              "      <th>0</th>\n",
              "      <td>26.3</td>\n",
              "      <td>15.503</td>\n",
              "      <td>1.9110</td>\n",
              "    </tr>\n",
              "    <tr>\n",
              "      <th>1</th>\n",
              "      <td>34.9</td>\n",
              "      <td>15.943</td>\n",
              "      <td>1.3983</td>\n",
              "    </tr>\n",
              "  </tbody>\n",
              "</table>\n",
              "</div>"
            ],
            "text/plain": [
              "      t      Rc      Rs\n",
              "0  26.3  15.503  1.9110\n",
              "1  34.9  15.943  1.3983"
            ]
          },
          "metadata": {
            "tags": []
          },
          "execution_count": 3
        }
      ]
    },
    {
      "cell_type": "markdown",
      "metadata": {
        "id": "CVth5W2WuP_H",
        "colab_type": "text"
      },
      "source": [
        "生データをグラフにしておく。"
      ]
    },
    {
      "cell_type": "code",
      "metadata": {
        "id": "LfqmpanCwB48",
        "colab_type": "code",
        "colab": {
          "base_uri": "https://localhost:8080/",
          "height": 308
        },
        "outputId": "66e03b8c-7ca8-4866-f7c2-b784dcb78140"
      },
      "source": [
        "sns.lineplot(x='t', y='Rc', marker='o', color='r', data=df)"
      ],
      "execution_count": 4,
      "outputs": [
        {
          "output_type": "execute_result",
          "data": {
            "text/plain": [
              "<matplotlib.axes._subplots.AxesSubplot at 0x7ff2bae884a8>"
            ]
          },
          "metadata": {
            "tags": []
          },
          "execution_count": 4
        },
        {
          "output_type": "display_data",
          "data": {
            "image/png": "[encoded data removed]",
            "text/plain": [
              "<Figure size 432x288 with 1 Axes>"
            ]
          },
          "metadata": {
            "tags": []
          }
        }
      ]
    },
    {
      "cell_type": "code",
      "metadata": {
        "id": "-4Eng9o6wUcE",
        "colab_type": "code",
        "colab": {
          "base_uri": "https://localhost:8080/",
          "height": 308
        },
        "outputId": "bb1954c3-ce50-4a9f-ca03-4942c3318fd3"
      },
      "source": [
        "sns.lineplot(x='t', y='Rs', marker='o', color='g', data=df)"
      ],
      "execution_count": 5,
      "outputs": [
        {
          "output_type": "execute_result",
          "data": {
            "text/plain": [
              "<matplotlib.axes._subplots.AxesSubplot at 0x7ff2b855f400>"
            ]
          },
          "metadata": {
            "tags": []
          },
          "execution_count": 5
        },
        {
          "output_type": "display_data",
          "data": {
            "image/png": "[encoded data removed]",
            "text/plain": [
              "<Figure size 432x288 with 1 Axes>"
            ]
          },
          "metadata": {
            "tags": []
          }
        }
      ]
    },
    {
      "cell_type": "markdown",
      "metadata": {
        "id": "60X0kRW6u9N2",
        "colab_type": "text"
      },
      "source": [
        "Rsは温度に対して直線的で無いので、あれこれ列をを増やす。"
      ]
    },
    {
      "cell_type": "code",
      "metadata": {
        "id": "zlN1cVvrnpri",
        "colab_type": "code",
        "colab": {
          "base_uri": "https://localhost:8080/",
          "height": 297
        },
        "outputId": "34e01f04-7b5d-4f05-a9c9-c3e5db1f1626"
      },
      "source": [
        "df['T'] = df['t'] + 273.15\n",
        "df['T_inv'] = 1.0 / df['T']\n",
        "df['Rs_log'] = np.log(df['Rs'])\n",
        "df.head(100)"
      ],
      "execution_count": 6,
      "outputs": [
        {
          "output_type": "execute_result",
          "data": {
            "text/html": [
              "<div>\n",
              "<style scoped>\n",
              "    .dataframe tbody tr th:only-of-type {\n",
              "        vertical-align: middle;\n",
              "    }\n",
              "\n",
              "    .dataframe tbody tr th {\n",
              "        vertical-align: top;\n",
              "    }\n",
              "\n",
              "    .dataframe thead th {\n",
              "        text-align: right;\n",
              "    }\n",
              "</style>\n",
              "<table border=\"1\" class=\"dataframe\">\n",
              "  <thead>\n",
              "    <tr style=\"text-align: right;\">\n",
              "      <th></th>\n",
              "      <th>t</th>\n",
              "      <th>Rc</th>\n",
              "      <th>Rs</th>\n",
              "      <th>T</th>\n",
              "      <th>T_inv</th>\n",
              "      <th>Rs_log</th>\n",
              "    </tr>\n",
              "  </thead>\n",
              "  <tbody>\n",
              "    <tr>\n",
              "      <th>0</th>\n",
              "      <td>26.3</td>\n",
              "      <td>15.503</td>\n",
              "      <td>1.91100</td>\n",
              "      <td>299.45</td>\n",
              "      <td>0.003339</td>\n",
              "      <td>0.647627</td>\n",
              "    </tr>\n",
              "    <tr>\n",
              "      <th>1</th>\n",
              "      <td>34.9</td>\n",
              "      <td>15.943</td>\n",
              "      <td>1.39830</td>\n",
              "      <td>308.05</td>\n",
              "      <td>0.003246</td>\n",
              "      <td>0.335257</td>\n",
              "    </tr>\n",
              "    <tr>\n",
              "      <th>2</th>\n",
              "      <td>43.8</td>\n",
              "      <td>16.441</td>\n",
              "      <td>1.02768</td>\n",
              "      <td>316.95</td>\n",
              "      <td>0.003155</td>\n",
              "      <td>0.027304</td>\n",
              "    </tr>\n",
              "    <tr>\n",
              "      <th>3</th>\n",
              "      <td>53.1</td>\n",
              "      <td>16.994</td>\n",
              "      <td>0.74553</td>\n",
              "      <td>326.25</td>\n",
              "      <td>0.003065</td>\n",
              "      <td>-0.293660</td>\n",
              "    </tr>\n",
              "    <tr>\n",
              "      <th>4</th>\n",
              "      <td>62.0</td>\n",
              "      <td>17.523</td>\n",
              "      <td>0.55844</td>\n",
              "      <td>335.15</td>\n",
              "      <td>0.002984</td>\n",
              "      <td>-0.582608</td>\n",
              "    </tr>\n",
              "    <tr>\n",
              "      <th>5</th>\n",
              "      <td>71.3</td>\n",
              "      <td>18.056</td>\n",
              "      <td>0.41561</td>\n",
              "      <td>344.45</td>\n",
              "      <td>0.002903</td>\n",
              "      <td>-0.878008</td>\n",
              "    </tr>\n",
              "    <tr>\n",
              "      <th>6</th>\n",
              "      <td>80.6</td>\n",
              "      <td>18.635</td>\n",
              "      <td>0.31667</td>\n",
              "      <td>353.75</td>\n",
              "      <td>0.002827</td>\n",
              "      <td>-1.149895</td>\n",
              "    </tr>\n",
              "    <tr>\n",
              "      <th>7</th>\n",
              "      <td>89.9</td>\n",
              "      <td>19.197</td>\n",
              "      <td>0.24289</td>\n",
              "      <td>363.05</td>\n",
              "      <td>0.002754</td>\n",
              "      <td>-1.415147</td>\n",
              "    </tr>\n",
              "  </tbody>\n",
              "</table>\n",
              "</div>"
            ],
            "text/plain": [
              "      t      Rc       Rs       T     T_inv    Rs_log\n",
              "0  26.3  15.503  1.91100  299.45  0.003339  0.647627\n",
              "1  34.9  15.943  1.39830  308.05  0.003246  0.335257\n",
              "2  43.8  16.441  1.02768  316.95  0.003155  0.027304\n",
              "3  53.1  16.994  0.74553  326.25  0.003065 -0.293660\n",
              "4  62.0  17.523  0.55844  335.15  0.002984 -0.582608\n",
              "5  71.3  18.056  0.41561  344.45  0.002903 -0.878008\n",
              "6  80.6  18.635  0.31667  353.75  0.002827 -1.149895\n",
              "7  89.9  19.197  0.24289  363.05  0.002754 -1.415147"
            ]
          },
          "metadata": {
            "tags": []
          },
          "execution_count": 6
        }
      ]
    },
    {
      "cell_type": "code",
      "metadata": {
        "id": "qpsO27nAwwlY",
        "colab_type": "code",
        "colab": {
          "base_uri": "https://localhost:8080/",
          "height": 308
        },
        "outputId": "cafebaa4-7cb7-4552-e685-32e2ca5f630a"
      },
      "source": [
        "sns.lineplot(x='T_inv', y='Rs', marker='o', color='c', data=df)"
      ],
      "execution_count": 7,
      "outputs": [
        {
          "output_type": "execute_result",
          "data": {
            "text/plain": [
              "<matplotlib.axes._subplots.AxesSubplot at 0x7ff2bae887b8>"
            ]
          },
          "metadata": {
            "tags": []
          },
          "execution_count": 7
        },
        {
          "output_type": "display_data",
          "data": {
            "image/png": "[encoded data removed]",
            "text/plain": [
              "<Figure size 432x288 with 1 Axes>"
            ]
          },
          "metadata": {
            "tags": []
          }
        }
      ]
    },
    {
      "cell_type": "code",
      "metadata": {
        "id": "KQn0KOHfw_Y6",
        "colab_type": "code",
        "colab": {
          "base_uri": "https://localhost:8080/",
          "height": 308
        },
        "outputId": "e11e2c6e-b12e-450c-9d2a-bbb693e8805b"
      },
      "source": [
        "sns.lineplot(x='T', y='Rs_log', marker='o', color='y', data=df)"
      ],
      "execution_count": 8,
      "outputs": [
        {
          "output_type": "execute_result",
          "data": {
            "text/plain": [
              "<matplotlib.axes._subplots.AxesSubplot at 0x7ff2b721f438>"
            ]
          },
          "metadata": {
            "tags": []
          },
          "execution_count": 8
        },
        {
          "output_type": "display_data",
          "data": {
            "image/png": "[encoded data removed]",
            "text/plain": [
              "<Figure size 432x288 with 1 Axes>"
            ]
          },
          "metadata": {
            "tags": []
          }
        }
      ]
    },
    {
      "cell_type": "code",
      "metadata": {
        "id": "6FsPm9bytZIb",
        "colab_type": "code",
        "colab": {
          "base_uri": "https://localhost:8080/",
          "height": 308
        },
        "outputId": "9656ba82-80c4-4923-d011-6b7466b34b66"
      },
      "source": [
        "sns.lineplot(x='T_inv', y='Rs_log', marker='o', color='k', data=df)"
      ],
      "execution_count": 9,
      "outputs": [
        {
          "output_type": "execute_result",
          "data": {
            "text/plain": [
              "<matplotlib.axes._subplots.AxesSubplot at 0x7ff2b71dbcc0>"
            ]
          },
          "metadata": {
            "tags": []
          },
          "execution_count": 9
        },
        {
          "output_type": "display_data",
          "data": {
            "image/png": "[encoded data removed]",
            "text/plain": [
              "<Figure size 432x288 with 1 Axes>"
            ]
          },
          "metadata": {
            "tags": []
          }
        }
      ]
    },
    {
      "cell_type": "markdown",
      "metadata": {
        "id": "38NEuP7mvU4e",
        "colab_type": "text"
      },
      "source": [
        "# 最小自乗法"
      ]
    },
    {
      "cell_type": "markdown",
      "metadata": {
        "id": "cKHW2EjBwanO",
        "colab_type": "text"
      },
      "source": [
        "## 銅線"
      ]
    },
    {
      "cell_type": "code",
      "metadata": {
        "id": "sPtHVEo20vRx",
        "colab_type": "code",
        "colab": {
          "base_uri": "https://localhost:8080/",
          "height": 308
        },
        "outputId": "8e52ced2-3e1c-4cb7-823c-4575a677472f"
      },
      "source": [
        "reg = linear_model.LinearRegression()\n",
        "X = df['T'].values.reshape(-1, 1)\n",
        "Y = df['Rc'].values\n",
        "reg_fit = reg.fit(X, Y)\n",
        "plt.scatter(X, Y)\n",
        "plt.plot(X, reg.predict(X), 'r')\n",
        "print(reg_fit.coef_)\n",
        "print(reg_fit.intercept_)"
      ],
      "execution_count": 10,
      "outputs": [
        {
          "output_type": "stream",
          "text": [
            "[0.05842778]\n",
            "-2.0465210695411926\n"
          ],
          "name": "stdout"
        },
        {
          "output_type": "display_data",
          "data": {
            "image/png": "[encoded data removed]",
            "text/plain": [
              "<Figure size 432x288 with 1 Axes>"
            ]
          },
          "metadata": {
            "tags": []
          }
        }
      ]
    },
    {
      "cell_type": "markdown",
      "metadata": {
        "id": "wBjex34yvnaQ",
        "colab_type": "text"
      },
      "source": [
        "傾きと$y$切片の値は、Report003.ipynbの数値に近い。\n"
      ]
    },
    {
      "cell_type": "markdown",
      "metadata": {
        "id": "lHPorjqWwSau",
        "colab_type": "text"
      },
      "source": [
        "## サーミスタ"
      ]
    },
    {
      "cell_type": "code",
      "metadata": {
        "id": "CuZ1RAUCmV0w",
        "colab_type": "code",
        "colab": {
          "base_uri": "https://localhost:8080/",
          "height": 308
        },
        "outputId": "223163e5-7dfc-4708-9646-ca1fa6e191cd"
      },
      "source": [
        "reg = linear_model.LinearRegression()\n",
        "X = df['T'].values.reshape(-1, 1)\n",
        "Y = df['Rs'].values\n",
        "reg_fit = reg.fit(X, Y)\n",
        "plt.scatter(X, Y)\n",
        "plt.plot(X, reg.predict(X), 'r')\n",
        "print(reg_fit.coef_)\n",
        "print(reg_fit.intercept_)"
      ],
      "execution_count": 11,
      "outputs": [
        {
          "output_type": "stream",
          "text": [
            "[-0.02488553]\n",
            "9.061324718903599\n"
          ],
          "name": "stdout"
        },
        {
          "output_type": "display_data",
          "data": {
            "image/png": "[encoded data removed]",
            "text/plain": [
              "<Figure size 432x288 with 1 Axes>"
            ]
          },
          "metadata": {
            "tags": []
          }
        }
      ]
    },
    {
      "cell_type": "code",
      "metadata": {
        "id": "4mCvjA0_mpvC",
        "colab_type": "code",
        "colab": {
          "base_uri": "https://localhost:8080/",
          "height": 308
        },
        "outputId": "f75b48ff-121b-4fe3-a761-99c18b4e2f01"
      },
      "source": [
        "fig, ax = plt.subplots()\n",
        "reg = linear_model.LinearRegression()\n",
        "X = df['T_inv'].values.reshape(-1, 1)\n",
        "Y = df['Rs'].values\n",
        "reg_fit = reg.fit(X, Y)\n",
        "ax = plt.scatter(X, Y)\n",
        "ax = plt.plot(X, reg.predict(X), 'r')\n",
        "plt.xlim(X.min(), X.max())\n",
        "print(reg_fit.coef_)\n",
        "print(reg_fit.intercept_)"
      ],
      "execution_count": 12,
      "outputs": [
        {
          "output_type": "stream",
          "text": [
            "[2750.30931723]\n",
            "-7.51814613779828\n"
          ],
          "name": "stdout"
        },
        {
          "output_type": "display_data",
          "data": {
            "image/png": "[encoded data removed]",
            "text/plain": [
              "<Figure size 432x288 with 1 Axes>"
            ]
          },
          "metadata": {
            "tags": []
          }
        }
      ]
    },
    {
      "cell_type": "code",
      "metadata": {
        "id": "PtizE9v5mtar",
        "colab_type": "code",
        "colab": {
          "base_uri": "https://localhost:8080/",
          "height": 308
        },
        "outputId": "3174fc5f-25ad-467e-c851-1bae3d01d265"
      },
      "source": [
        "reg = linear_model.LinearRegression()\n",
        "X = df['T_inv'].values.reshape(-1, 1)\n",
        "Y = df['Rs_log'].values\n",
        "reg_fit = reg.fit(X, Y)\n",
        "plt.scatter(X, Y)\n",
        "plt.plot(X, reg.predict(X), 'r')\n",
        "plt.xlim(X.min(), X.max())\n",
        "print(reg_fit.coef_)\n",
        "print(reg_fit.intercept_)"
      ],
      "execution_count": 13,
      "outputs": [
        {
          "output_type": "stream",
          "text": [
            "[3535.99121249]\n",
            "-11.14276769278197\n"
          ],
          "name": "stdout"
        },
        {
          "output_type": "display_data",
          "data": {
            "image/png": "[encoded data removed]",
            "text/plain": [
              "<Figure size 432x288 with 1 Axes>"
            ]
          },
          "metadata": {
            "tags": []
          }
        }
      ]
    },
    {
      "cell_type": "code",
      "metadata": {
        "id": "5PZBqZDqm0Oc",
        "colab_type": "code",
        "colab": {}
      },
      "source": [
        ""
      ],
      "execution_count": 0,
      "outputs": []
    }
  ]
}